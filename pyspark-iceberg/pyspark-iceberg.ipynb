{
 "cells": [
  {
   "cell_type": "code",
   "execution_count": 1,
   "id": "14712021-5540-4660-8748-9279f3121993",
   "metadata": {},
   "outputs": [],
   "source": [
    "from pyspark.sql import SparkSession"
   ]
  },
  {
   "cell_type": "code",
   "execution_count": 2,
   "id": "6c0dc0f4-5bb6-4872-ad1f-6e734c2eebf7",
   "metadata": {},
   "outputs": [
    {
     "name": "stderr",
     "output_type": "stream",
     "text": [
      "25/04/23 16:40:45 WARN Utils: Your hostname, DSKHORR01 resolves to a loopback address: 127.0.1.1; using 172.24.154.144 instead (on interface eth0)\n",
      "25/04/23 16:40:45 WARN Utils: Set SPARK_LOCAL_IP if you need to bind to another address\n"
     ]
    },
    {
     "name": "stdout",
     "output_type": "stream",
     "text": [
      ":: loading settings :: url = jar:file:/home/matheus/.cache/pypoetry/virtualenvs/eng-dados-apache-spark-CjuUoowy-py3.9/lib/python3.9/site-packages/pyspark/jars/ivy-2.5.1.jar!/org/apache/ivy/core/settings/ivysettings.xml\n"
     ]
    },
    {
     "name": "stderr",
     "output_type": "stream",
     "text": [
      "Ivy Default Cache set to: /home/matheus/.ivy2/cache\n",
      "The jars for the packages stored in: /home/matheus/.ivy2/jars\n",
      "org.apache.iceberg#iceberg-spark-runtime-3.4_2.12 added as a dependency\n",
      ":: resolving dependencies :: org.apache.spark#spark-submit-parent-9c3aa227-86b9-4bf3-9868-82c5e5fc03de;1.0\n",
      "\tconfs: [default]\n",
      "\tfound org.apache.iceberg#iceberg-spark-runtime-3.4_2.12;1.3.0 in central\n",
      "downloading https://repo1.maven.org/maven2/org/apache/iceberg/iceberg-spark-runtime-3.4_2.12/1.3.0/iceberg-spark-runtime-3.4_2.12-1.3.0.jar ...\n",
      "\t[SUCCESSFUL ] org.apache.iceberg#iceberg-spark-runtime-3.4_2.12;1.3.0!iceberg-spark-runtime-3.4_2.12.jar (-560ms)\n",
      ":: resolution report :: resolve 7023ms :: artifacts dl -556ms\n",
      "\t:: modules in use:\n",
      "\torg.apache.iceberg#iceberg-spark-runtime-3.4_2.12;1.3.0 from central in [default]\n",
      "\t---------------------------------------------------------------------\n",
      "\t|                  |            modules            ||   artifacts   |\n",
      "\t|       conf       | number| search|dwnlded|evicted|| number|dwnlded|\n",
      "\t---------------------------------------------------------------------\n",
      "\t|      default     |   1   |   1   |   1   |   0   ||   1   |   1   |\n",
      "\t---------------------------------------------------------------------\n",
      ":: retrieving :: org.apache.spark#spark-submit-parent-9c3aa227-86b9-4bf3-9868-82c5e5fc03de\n",
      "\tconfs: [default]\n",
      "\t1 artifacts copied, 0 already retrieved (27866kB/120ms)\n",
      "25/04/23 16:40:54 WARN NativeCodeLoader: Unable to load native-hadoop library for your platform... using builtin-java classes where applicable\n",
      "Setting default log level to \"WARN\".\n",
      "To adjust logging level use sc.setLogLevel(newLevel). For SparkR, use setLogLevel(newLevel).\n"
     ]
    }
   ],
   "source": [
    "spark = (\n",
    "    SparkSession.builder\n",
    "    .appName(\"IcebergExample\")\n",
    "    .master(\"local[*]\")\n",
    "    .config(\"spark.jars.packages\", \"org.apache.iceberg:iceberg-spark-runtime-3.4_2.12:1.3.0\")\n",
    "    .config(\"spark.sql.extensions\", \"org.apache.iceberg.spark.extensions.IcebergSparkSessionExtensions\")\n",
    "    .config(\"spark.sql.catalog.spark_catalog\", \"org.apache.iceberg.spark.SparkSessionCatalog\")\n",
    "    .config(\"spark.sql.catalog.spark_catalog.type\", \"hadoop\")\n",
    "    .config(\"spark.sql.catalog.spark_catalog.warehouse\", \"./warehouse\")\n",
    "    .getOrCreate()\n",
    ")"
   ]
  },
  {
   "cell_type": "code",
   "execution_count": 3,
   "id": "6c32b03d-bd62-4db0-a0ac-2e7e6b68f973",
   "metadata": {},
   "outputs": [
    {
     "name": "stdout",
     "output_type": "stream",
     "text": [
      "+----------+------------+---+-------+--------------+\n",
      "|ID_CLIENTE|NOME_CLIENTE| UF| STATUS|LIMITE_CREDITO|\n",
      "+----------+------------+---+-------+--------------+\n",
      "|     ID001|   CLIENTE_X| SP|  ATIVO|      250000.0|\n",
      "|     ID002|   CLIENTE_Y| SC|INATIVO|      400000.0|\n",
      "|     ID003|   CLIENTE_Z| DF|  ATIVO|     1000000.0|\n",
      "+----------+------------+---+-------+--------------+\n",
      "\n"
     ]
    }
   ],
   "source": [
    "from pyspark.sql.types import StructType, StructField, StringType, FloatType\n",
    "\n",
    "data = [\n",
    "    (\"ID001\", \"CLIENTE_X\", \"SP\", \"ATIVO\",   250000.00),\n",
    "    (\"ID002\", \"CLIENTE_Y\", \"SC\", \"INATIVO\", 400000.00),\n",
    "    (\"ID003\", \"CLIENTE_Z\", \"DF\", \"ATIVO\",   1000000.00)\n",
    "]\n",
    "\n",
    "schema = StructType([\n",
    "    StructField(\"ID_CLIENTE\", StringType(), True),\n",
    "    StructField(\"NOME_CLIENTE\", StringType(), True),\n",
    "    StructField(\"UF\", StringType(), True),\n",
    "    StructField(\"STATUS\", StringType(), True),\n",
    "    StructField(\"LIMITE_CREDITO\", FloatType(), True)\n",
    "])\n",
    "\n",
    "df = spark.createDataFrame(data=data, schema=schema)\n",
    "df.show()"
   ]
  },
  {
   "cell_type": "code",
   "execution_count": null,
   "id": "2bdeae2a-8c35-4462-8f13-c11af429696d",
   "metadata": {},
   "outputs": [],
   "source": []
  }
 ],
 "metadata": {
  "kernelspec": {
   "display_name": "Python 3 (ipykernel)",
   "language": "python",
   "name": "python3"
  },
  "language_info": {
   "codemirror_mode": {
    "name": "ipython",
    "version": 3
   },
   "file_extension": ".py",
   "mimetype": "text/x-python",
   "name": "python",
   "nbconvert_exporter": "python",
   "pygments_lexer": "ipython3",
   "version": "3.9.9"
  }
 },
 "nbformat": 4,
 "nbformat_minor": 5
}
